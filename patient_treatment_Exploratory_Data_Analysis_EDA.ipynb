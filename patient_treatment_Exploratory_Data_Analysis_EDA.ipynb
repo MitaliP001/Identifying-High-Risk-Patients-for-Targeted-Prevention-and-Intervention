{
 "cells": [
  {
   "cell_type": "code",
   "execution_count": null,
   "id": "c102dac3",
   "metadata": {},
   "outputs": [
    {
     "name": "stdout",
     "output_type": "stream",
     "text": [
      "       HAEMATOCRIT  HAEMOGLOBINS  ERYTHROCYTE    LEUCOCYTE  THROMBOCYTE  \\\n",
      "count  3309.000000   3309.000000  3309.000000  3309.000000  3309.000000   \n",
      "mean     38.226111     12.749350     4.544802     8.715533   258.893019   \n",
      "std       5.971943      2.084325     0.784510     4.991299   112.676139   \n",
      "min      13.700000      3.800000     1.480000     1.100000    10.000000   \n",
      "25%      34.300000     11.400000     4.040000     5.700000   191.000000   \n",
      "50%      38.700000     12.900000     4.580000     7.600000   257.000000   \n",
      "75%      42.500000     14.200000     5.060000    10.300000   322.000000   \n",
      "max      69.000000     18.900000     7.860000    76.600000  1121.000000   \n",
      "\n",
      "               MCH         MCHC          MCV          AGE       SOURCE  \n",
      "count  3309.000000  3309.000000  3309.000000  3309.000000  3309.000000  \n",
      "mean     28.230039    33.336476    84.611333    46.644303     0.398005  \n",
      "std       2.696520     1.247055     6.916079    21.874106     0.489561  \n",
      "min      14.900000    26.000000    54.000000     1.000000     0.000000  \n",
      "25%      27.200000    32.700000    81.500000    29.000000     0.000000  \n",
      "50%      28.700000    33.400000    85.300000    48.000000     0.000000  \n",
      "75%      29.800000    34.100000    88.800000    64.000000     1.000000  \n",
      "max      40.800000    38.400000   115.600000    99.000000     1.000000  \n"
     ]
    }
   ],
   "source": [
    "import pandas as pd\n",
    "import matplotlib.pyplot as plt\n",
    "import seaborn as sns\n",
    "\n",
    "# Load the dataset\n",
    "data = pd.read_csv(\"https://raw.githubusercontent.com/MitaliP001/patient-treatment-classification/main/training_set.csv\")\n",
    "\n",
    "# Display basic statistics of the dataset\n",
    "print(data.describe())\n",
    "\n",
    "# Pairwise scatter plot for numerical variables colored by 'SOURCE'\n",
    "sns.pairplot(data, hue='SOURCE', diag_kind='kde')\n",
    "plt.show()\n",
    "\n",
    "# Box plot for numerical variables by 'SOURCE'\n",
    "fig, axes = plt.subplots(nrows=3, ncols=3, figsize=(15, 10))\n",
    "\n",
    "for i, column in enumerate(data.columns[:-1]):\n",
    "    sns.boxplot(x='SOURCE', y=column, data=data, ax=axes[i // 3, i % 3])\n",
    "\n",
    "plt.tight_layout()\n",
    "plt.show()\n",
    "\n",
    "# Heatmap of correlation matrix\n",
    "corr_matrix = data.corr()\n",
    "plt.figure(figsize=(10, 8))\n",
    "sns.heatmap(corr_matrix, annot=True, cmap='coolwarm', fmt=\".2f\")\n",
    "plt.title('Correlation Matrix')\n",
    "plt.show()\n",
    "\n",
    "# Count plot for categorical variable 'SEX' colored by 'SOURCE'\n",
    "sns.countplot(x='SEX', hue='SOURCE', data=data)\n",
    "plt.show()\n"
   ]
  },
  {
   "cell_type": "code",
   "execution_count": null,
   "id": "80b28f00",
   "metadata": {},
   "outputs": [],
   "source": []
  }
 ],
 "metadata": {
  "kernelspec": {
   "display_name": "Python 3 (ipykernel)",
   "language": "python",
   "name": "python3"
  },
  "language_info": {
   "codemirror_mode": {
    "name": "ipython",
    "version": 3
   },
   "file_extension": ".py",
   "mimetype": "text/x-python",
   "name": "python",
   "nbconvert_exporter": "python",
   "pygments_lexer": "ipython3",
   "version": "3.11.5"
  }
 },
 "nbformat": 4,
 "nbformat_minor": 5
}

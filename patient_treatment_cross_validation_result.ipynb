{
 "cells": [
  {
   "cell_type": "code",
   "execution_count": 2,
   "id": "709b03f2",
   "metadata": {},
   "outputs": [
    {
     "name": "stdout",
     "output_type": "stream",
     "text": [
      "Cross-Validation Results:\n",
      "Accuracy: 0.75 (+/- 0.02)\n"
     ]
    }
   ],
   "source": [
    "import pandas as pd\n",
    "from sklearn.model_selection import cross_val_score\n",
    "from sklearn.ensemble import RandomForestClassifier\n",
    "from sklearn.preprocessing import LabelEncoder\n",
    "from sklearn.metrics import make_scorer, accuracy_score\n",
    "\n",
    "# Load the dataset\n",
    "data = pd.read_csv(\"https://raw.githubusercontent.com/MitaliP001/patient-treatment-classification/main/training_set.csv\")\n",
    "\n",
    "# Encode categorical variables\n",
    "label_encoder = LabelEncoder()\n",
    "data['SEX'] = label_encoder.fit_transform(data['SEX'])\n",
    "\n",
    "# Separate features and target variable\n",
    "X = data[['HAEMATOCRIT', 'HAEMOGLOBINS', 'ERYTHROCYTE', 'LEUCOCYTE', 'THROMBOCYTE', 'MCH', 'MCHC', 'MCV', 'AGE', 'SEX']]\n",
    "y = data['SOURCE']\n",
    "\n",
    "# Initialize the model\n",
    "model = RandomForestClassifier(random_state=42)\n",
    "\n",
    "# Define a scoring metric (e.g., accuracy)\n",
    "scorer = make_scorer(accuracy_score)\n",
    "\n",
    "# Perform cross-validation\n",
    "cv_results = cross_val_score(model, X, y, cv=5, scoring=scorer)\n",
    "\n",
    "# Display cross-validation results\n",
    "print(\"Cross-Validation Results:\")\n",
    "print(\"Accuracy: {:.2f} (+/- {:.2f})\".format(cv_results.mean(), cv_results.std() * 2))\n"
   ]
  },
  {
   "cell_type": "code",
   "execution_count": null,
   "id": "ffd83d22",
   "metadata": {},
   "outputs": [],
   "source": []
  }
 ],
 "metadata": {
  "kernelspec": {
   "display_name": "Python 3 (ipykernel)",
   "language": "python",
   "name": "python3"
  },
  "language_info": {
   "codemirror_mode": {
    "name": "ipython",
    "version": 3
   },
   "file_extension": ".py",
   "mimetype": "text/x-python",
   "name": "python",
   "nbconvert_exporter": "python",
   "pygments_lexer": "ipython3",
   "version": "3.11.5"
  }
 },
 "nbformat": 4,
 "nbformat_minor": 5
}

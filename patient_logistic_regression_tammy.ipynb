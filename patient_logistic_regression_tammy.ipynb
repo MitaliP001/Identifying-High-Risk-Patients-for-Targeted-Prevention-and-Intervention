{
 "cells": [
  {
   "cell_type": "code",
   "execution_count": 38,
   "id": "8b9daed9",
   "metadata": {},
   "outputs": [],
   "source": [
    "# Import necessary libraries\n",
    "import numpy as np\n",
    "import pandas as pd\n",
    "from sklearn.model_selection import train_test_split\n",
    "from sklearn.linear_model import LogisticRegression\n",
    "from sklearn.metrics import accuracy_score, classification_report, confusion_matrix\n",
    "from sklearn.preprocessing import StandardScaler\n"
   ]
  },
  {
   "cell_type": "code",
   "execution_count": 39,
   "id": "47ba3e40",
   "metadata": {},
   "outputs": [],
   "source": [
    "# Load the dataset\n",
    "url = \"https://www.kaggle.com/datasets/manishkc06/patient-treatment-classification\"\n",
    "# You may need to download the dataset and load it if it's not publicly available\n"
   ]
  },
  {
   "cell_type": "code",
   "execution_count": 40,
   "id": "5a8c30a9",
   "metadata": {},
   "outputs": [],
   "source": [
    "data = pd.read_csv(\"https://raw.githubusercontent.com/MitaliP001/patient-treatment-classification/main/training_set.csv\")  # Replace \"your_dataset.csv\" with the actual file path"
   ]
  },
  {
   "cell_type": "code",
   "execution_count": 41,
   "id": "e9235102",
   "metadata": {},
   "outputs": [
    {
     "data": {
      "text/html": [
       "<div>\n",
       "<style scoped>\n",
       "    .dataframe tbody tr th:only-of-type {\n",
       "        vertical-align: middle;\n",
       "    }\n",
       "\n",
       "    .dataframe tbody tr th {\n",
       "        vertical-align: top;\n",
       "    }\n",
       "\n",
       "    .dataframe thead th {\n",
       "        text-align: right;\n",
       "    }\n",
       "</style>\n",
       "<table border=\"1\" class=\"dataframe\">\n",
       "  <thead>\n",
       "    <tr style=\"text-align: right;\">\n",
       "      <th></th>\n",
       "      <th>HAEMATOCRIT</th>\n",
       "      <th>HAEMOGLOBINS</th>\n",
       "      <th>ERYTHROCYTE</th>\n",
       "      <th>LEUCOCYTE</th>\n",
       "      <th>THROMBOCYTE</th>\n",
       "      <th>MCH</th>\n",
       "      <th>MCHC</th>\n",
       "      <th>MCV</th>\n",
       "      <th>AGE</th>\n",
       "      <th>SEX</th>\n",
       "      <th>SOURCE</th>\n",
       "    </tr>\n",
       "  </thead>\n",
       "  <tbody>\n",
       "    <tr>\n",
       "      <th>0</th>\n",
       "      <td>33.8</td>\n",
       "      <td>11.1</td>\n",
       "      <td>4.18</td>\n",
       "      <td>4.6</td>\n",
       "      <td>150</td>\n",
       "      <td>26.6</td>\n",
       "      <td>32.8</td>\n",
       "      <td>80.9</td>\n",
       "      <td>33</td>\n",
       "      <td>F</td>\n",
       "      <td>1</td>\n",
       "    </tr>\n",
       "    <tr>\n",
       "      <th>1</th>\n",
       "      <td>44.6</td>\n",
       "      <td>14.0</td>\n",
       "      <td>6.86</td>\n",
       "      <td>6.3</td>\n",
       "      <td>232</td>\n",
       "      <td>20.4</td>\n",
       "      <td>31.4</td>\n",
       "      <td>65.0</td>\n",
       "      <td>36</td>\n",
       "      <td>M</td>\n",
       "      <td>0</td>\n",
       "    </tr>\n",
       "    <tr>\n",
       "      <th>2</th>\n",
       "      <td>42.9</td>\n",
       "      <td>14.0</td>\n",
       "      <td>4.57</td>\n",
       "      <td>6.2</td>\n",
       "      <td>336</td>\n",
       "      <td>30.6</td>\n",
       "      <td>32.6</td>\n",
       "      <td>93.9</td>\n",
       "      <td>70</td>\n",
       "      <td>F</td>\n",
       "      <td>0</td>\n",
       "    </tr>\n",
       "    <tr>\n",
       "      <th>3</th>\n",
       "      <td>41.9</td>\n",
       "      <td>14.4</td>\n",
       "      <td>4.67</td>\n",
       "      <td>3.5</td>\n",
       "      <td>276</td>\n",
       "      <td>30.8</td>\n",
       "      <td>34.4</td>\n",
       "      <td>89.7</td>\n",
       "      <td>18</td>\n",
       "      <td>F</td>\n",
       "      <td>0</td>\n",
       "    </tr>\n",
       "    <tr>\n",
       "      <th>4</th>\n",
       "      <td>40.6</td>\n",
       "      <td>13.3</td>\n",
       "      <td>4.85</td>\n",
       "      <td>14.9</td>\n",
       "      <td>711</td>\n",
       "      <td>27.4</td>\n",
       "      <td>32.8</td>\n",
       "      <td>83.7</td>\n",
       "      <td>36</td>\n",
       "      <td>M</td>\n",
       "      <td>0</td>\n",
       "    </tr>\n",
       "  </tbody>\n",
       "</table>\n",
       "</div>"
      ],
      "text/plain": [
       "   HAEMATOCRIT  HAEMOGLOBINS  ERYTHROCYTE  LEUCOCYTE  THROMBOCYTE   MCH  MCHC  \\\n",
       "0         33.8          11.1         4.18        4.6          150  26.6  32.8   \n",
       "1         44.6          14.0         6.86        6.3          232  20.4  31.4   \n",
       "2         42.9          14.0         4.57        6.2          336  30.6  32.6   \n",
       "3         41.9          14.4         4.67        3.5          276  30.8  34.4   \n",
       "4         40.6          13.3         4.85       14.9          711  27.4  32.8   \n",
       "\n",
       "    MCV  AGE SEX  SOURCE  \n",
       "0  80.9   33   F       1  \n",
       "1  65.0   36   M       0  \n",
       "2  93.9   70   F       0  \n",
       "3  89.7   18   F       0  \n",
       "4  83.7   36   M       0  "
      ]
     },
     "execution_count": 41,
     "metadata": {},
     "output_type": "execute_result"
    }
   ],
   "source": [
    "# Display the first few rows of the dataset\n",
    "data.head()\n"
   ]
  },
  {
   "cell_type": "code",
   "execution_count": 42,
   "id": "718f545e",
   "metadata": {},
   "outputs": [],
   "source": [
    "# Select columns for features (X) and the target variable (y):  use columns 'HAEMATOCRIT' through 'SEX' as features and 'SOURCE' as the target\n",
    "features = ['HAEMATOCRIT', 'HAEMOGLOBINS', 'ERYTHROCYTE', 'LEUCOCYTE', 'THROMBOCYTE', 'MCH', 'MCHC', 'MCV', 'AGE', 'SEX']\n",
    "target = 'SOURCE'"
   ]
  },
  {
   "cell_type": "code",
   "execution_count": 43,
   "id": "c0d22aff",
   "metadata": {},
   "outputs": [],
   "source": [
    "# Perform one-hot encoding for the 'SEX' column before splitting the data\n",
    "data_encoded = pd.get_dummies(data, columns=['SEX'], drop_first=True)"
   ]
  },
  {
   "cell_type": "code",
   "execution_count": 44,
   "id": "69451fe8",
   "metadata": {},
   "outputs": [],
   "source": [
    "# Split the data into features (X) and the target variable (y)\n",
    "X = data_encoded.drop('SOURCE', axis=1)\n",
    "y = data_encoded['SOURCE']"
   ]
  },
  {
   "cell_type": "code",
   "execution_count": 45,
   "id": "76897be0",
   "metadata": {},
   "outputs": [],
   "source": [
    "# Split the data into training and testing sets\n",
    "X_train, X_test, y_train, y_test = train_test_split(X, y, test_size=0.2, random_state=42)\n"
   ]
  },
  {
   "cell_type": "code",
   "execution_count": 46,
   "id": "41d8e13f",
   "metadata": {},
   "outputs": [],
   "source": [
    "# Scale the data\n",
    "scaler = StandardScaler()\n",
    "X_train_scaled = scaler.fit_transform(X_train)\n",
    "X_test_scaled = scaler.transform(X_test)"
   ]
  },
  {
   "cell_type": "code",
   "execution_count": 47,
   "id": "f6771677",
   "metadata": {},
   "outputs": [
    {
     "data": {
      "text/html": [
       "<style>#sk-container-id-2 {color: black;}#sk-container-id-2 pre{padding: 0;}#sk-container-id-2 div.sk-toggleable {background-color: white;}#sk-container-id-2 label.sk-toggleable__label {cursor: pointer;display: block;width: 100%;margin-bottom: 0;padding: 0.3em;box-sizing: border-box;text-align: center;}#sk-container-id-2 label.sk-toggleable__label-arrow:before {content: \"▸\";float: left;margin-right: 0.25em;color: #696969;}#sk-container-id-2 label.sk-toggleable__label-arrow:hover:before {color: black;}#sk-container-id-2 div.sk-estimator:hover label.sk-toggleable__label-arrow:before {color: black;}#sk-container-id-2 div.sk-toggleable__content {max-height: 0;max-width: 0;overflow: hidden;text-align: left;background-color: #f0f8ff;}#sk-container-id-2 div.sk-toggleable__content pre {margin: 0.2em;color: black;border-radius: 0.25em;background-color: #f0f8ff;}#sk-container-id-2 input.sk-toggleable__control:checked~div.sk-toggleable__content {max-height: 200px;max-width: 100%;overflow: auto;}#sk-container-id-2 input.sk-toggleable__control:checked~label.sk-toggleable__label-arrow:before {content: \"▾\";}#sk-container-id-2 div.sk-estimator input.sk-toggleable__control:checked~label.sk-toggleable__label {background-color: #d4ebff;}#sk-container-id-2 div.sk-label input.sk-toggleable__control:checked~label.sk-toggleable__label {background-color: #d4ebff;}#sk-container-id-2 input.sk-hidden--visually {border: 0;clip: rect(1px 1px 1px 1px);clip: rect(1px, 1px, 1px, 1px);height: 1px;margin: -1px;overflow: hidden;padding: 0;position: absolute;width: 1px;}#sk-container-id-2 div.sk-estimator {font-family: monospace;background-color: #f0f8ff;border: 1px dotted black;border-radius: 0.25em;box-sizing: border-box;margin-bottom: 0.5em;}#sk-container-id-2 div.sk-estimator:hover {background-color: #d4ebff;}#sk-container-id-2 div.sk-parallel-item::after {content: \"\";width: 100%;border-bottom: 1px solid gray;flex-grow: 1;}#sk-container-id-2 div.sk-label:hover label.sk-toggleable__label {background-color: #d4ebff;}#sk-container-id-2 div.sk-serial::before {content: \"\";position: absolute;border-left: 1px solid gray;box-sizing: border-box;top: 0;bottom: 0;left: 50%;z-index: 0;}#sk-container-id-2 div.sk-serial {display: flex;flex-direction: column;align-items: center;background-color: white;padding-right: 0.2em;padding-left: 0.2em;position: relative;}#sk-container-id-2 div.sk-item {position: relative;z-index: 1;}#sk-container-id-2 div.sk-parallel {display: flex;align-items: stretch;justify-content: center;background-color: white;position: relative;}#sk-container-id-2 div.sk-item::before, #sk-container-id-2 div.sk-parallel-item::before {content: \"\";position: absolute;border-left: 1px solid gray;box-sizing: border-box;top: 0;bottom: 0;left: 50%;z-index: -1;}#sk-container-id-2 div.sk-parallel-item {display: flex;flex-direction: column;z-index: 1;position: relative;background-color: white;}#sk-container-id-2 div.sk-parallel-item:first-child::after {align-self: flex-end;width: 50%;}#sk-container-id-2 div.sk-parallel-item:last-child::after {align-self: flex-start;width: 50%;}#sk-container-id-2 div.sk-parallel-item:only-child::after {width: 0;}#sk-container-id-2 div.sk-dashed-wrapped {border: 1px dashed gray;margin: 0 0.4em 0.5em 0.4em;box-sizing: border-box;padding-bottom: 0.4em;background-color: white;}#sk-container-id-2 div.sk-label label {font-family: monospace;font-weight: bold;display: inline-block;line-height: 1.2em;}#sk-container-id-2 div.sk-label-container {text-align: center;}#sk-container-id-2 div.sk-container {/* jupyter's `normalize.less` sets `[hidden] { display: none; }` but bootstrap.min.css set `[hidden] { display: none !important; }` so we also need the `!important` here to be able to override the default hidden behavior on the sphinx rendered scikit-learn.org. See: https://github.com/scikit-learn/scikit-learn/issues/21755 */display: inline-block !important;position: relative;}#sk-container-id-2 div.sk-text-repr-fallback {display: none;}</style><div id=\"sk-container-id-2\" class=\"sk-top-container\"><div class=\"sk-text-repr-fallback\"><pre>LogisticRegression(max_iter=1000)</pre><b>In a Jupyter environment, please rerun this cell to show the HTML representation or trust the notebook. <br />On GitHub, the HTML representation is unable to render, please try loading this page with nbviewer.org.</b></div><div class=\"sk-container\" hidden><div class=\"sk-item\"><div class=\"sk-estimator sk-toggleable\"><input class=\"sk-toggleable__control sk-hidden--visually\" id=\"sk-estimator-id-2\" type=\"checkbox\" checked><label for=\"sk-estimator-id-2\" class=\"sk-toggleable__label sk-toggleable__label-arrow\">LogisticRegression</label><div class=\"sk-toggleable__content\"><pre>LogisticRegression(max_iter=1000)</pre></div></div></div></div></div>"
      ],
      "text/plain": [
       "LogisticRegression(max_iter=1000)"
      ]
     },
     "execution_count": 47,
     "metadata": {},
     "output_type": "execute_result"
    }
   ],
   "source": [
    "# Initialize and train the logistic regression model\n",
    "model = LogisticRegression(max_iter=1000)\n",
    "model.fit(X_train_scaled, y_train)"
   ]
  },
  {
   "cell_type": "code",
   "execution_count": 48,
   "id": "5a72221c",
   "metadata": {},
   "outputs": [],
   "source": [
    "# Make predictions on the test set\n",
    "y_pred = model.predict(X_test_scaled)"
   ]
  },
  {
   "cell_type": "code",
   "execution_count": 49,
   "id": "4ce6b873",
   "metadata": {},
   "outputs": [],
   "source": [
    "# Evaluate the model\n",
    "accuracy = accuracy_score(y_test, y_pred)\n",
    "confusion_mat = confusion_matrix(y_test, y_pred)\n",
    "classification_rep = classification_report(y_test, y_pred)"
   ]
  },
  {
   "cell_type": "code",
   "execution_count": 50,
   "id": "2bb7276e",
   "metadata": {},
   "outputs": [
    {
     "name": "stdout",
     "output_type": "stream",
     "text": [
      "Accuracy: 0.6993957703927492\n",
      "Confusion Matrix:\n",
      "[[345  47]\n",
      " [152 118]]\n",
      "Classification Report:\n",
      "              precision    recall  f1-score   support\n",
      "\n",
      "           0       0.69      0.88      0.78       392\n",
      "           1       0.72      0.44      0.54       270\n",
      "\n",
      "    accuracy                           0.70       662\n",
      "   macro avg       0.70      0.66      0.66       662\n",
      "weighted avg       0.70      0.70      0.68       662\n",
      "\n"
     ]
    }
   ],
   "source": [
    "print(f\"Accuracy: {accuracy}\")\n",
    "print(\"Confusion Matrix:\")\n",
    "print(confusion_mat)\n",
    "print(\"Classification Report:\")\n",
    "print(classification_rep)"
   ]
  },
  {
   "cell_type": "code",
   "execution_count": null,
   "id": "b7c8f67e",
   "metadata": {},
   "outputs": [],
   "source": [
    "#successfully trained and evaluated your logistic regression model on your dataset.\n",
    "#The model achieved an accuracy of approximately 70%, indicating its ability to make reasonably accurate predictions.\n",
    "#Accuracy: The accuracy of the model is approximately 0.70, which means it correctly classifies around 70% of the samples in the test set.\n",
    "#The macro and weighted averages provide additional insights into the model's overall performance.\n",
    "#This project lays the foundation for future enhancements and more precise patient classification in a medical context."
   ]
  }
 ],
 "metadata": {
  "kernelspec": {
   "display_name": "Python 3 (ipykernel)",
   "language": "python",
   "name": "python3"
  },
  "language_info": {
   "codemirror_mode": {
    "name": "ipython",
    "version": 3
   },
   "file_extension": ".py",
   "mimetype": "text/x-python",
   "name": "python",
   "nbconvert_exporter": "python",
   "pygments_lexer": "ipython3",
   "version": "3.11.5"
  }
 },
 "nbformat": 4,
 "nbformat_minor": 5
}

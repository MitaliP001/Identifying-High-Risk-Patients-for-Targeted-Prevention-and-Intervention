{
 "cells": [
  {
   "cell_type": "code",
   "execution_count": 1,
   "id": "0140477a",
   "metadata": {},
   "outputs": [],
   "source": [
    "import pandas as pd\n",
    "import numpy as np"
   ]
  },
  {
   "cell_type": "code",
   "execution_count": 2,
   "id": "36d036c8",
   "metadata": {},
   "outputs": [],
   "source": [
    "url = \"https://raw.githubusercontent.com/MitaliP001/patient-treatment-classification/main/training_set.csv\"\n",
    "data = pd.read_csv(url)"
   ]
  },
  {
   "cell_type": "code",
   "execution_count": 3,
   "id": "6ab91970",
   "metadata": {},
   "outputs": [
    {
     "name": "stdout",
     "output_type": "stream",
     "text": [
      "   HAEMATOCRIT  HAEMOGLOBINS  ERYTHROCYTE  LEUCOCYTE  THROMBOCYTE   MCH  MCHC  \\\n",
      "0         33.8          11.1         4.18        4.6          150  26.6  32.8   \n",
      "1         44.6          14.0         6.86        6.3          232  20.4  31.4   \n",
      "2         42.9          14.0         4.57        6.2          336  30.6  32.6   \n",
      "3         41.9          14.4         4.67        3.5          276  30.8  34.4   \n",
      "4         40.6          13.3         4.85       14.9          711  27.4  32.8   \n",
      "\n",
      "    MCV  AGE SEX  SOURCE  \n",
      "0  80.9   33   F       1  \n",
      "1  65.0   36   M       0  \n",
      "2  93.9   70   F       0  \n",
      "3  89.7   18   F       0  \n",
      "4  83.7   36   M       0  \n"
     ]
    }
   ],
   "source": [
    "# Print the first few rows (default is 5 rows)\n",
    "print(data.head())"
   ]
  },
  {
   "cell_type": "code",
   "execution_count": null,
   "id": "a88e860a",
   "metadata": {},
   "outputs": [],
   "source": []
  }
 ],
 "metadata": {
  "kernelspec": {
   "display_name": "Python 3 (ipykernel)",
   "language": "python",
   "name": "python3"
  },
  "language_info": {
   "codemirror_mode": {
    "name": "ipython",
    "version": 3
   },
   "file_extension": ".py",
   "mimetype": "text/x-python",
   "name": "python",
   "nbconvert_exporter": "python",
   "pygments_lexer": "ipython3",
   "version": "3.11.5"
  }
 },
 "nbformat": 4,
 "nbformat_minor": 5
}

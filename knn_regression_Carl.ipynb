{
 "cells": [
  {
   "cell_type": "code",
   "execution_count": 71,
   "id": "36f9b92b",
   "metadata": {},
   "outputs": [],
   "source": [
    "import pandas as pd\n",
    "import numpy as np\n",
    "from sklearn.model_selection import train_test_split  # Import train_test_split\n",
    "from sklearn.preprocessing import StandardScaler\n",
    "from sklearn.neighbors import KNeighborsRegressor\n",
    "from sklearn.metrics import mean_squared_error, r2_score"
   ]
  },
  {
   "cell_type": "code",
   "execution_count": 72,
   "id": "cfead1a9",
   "metadata": {},
   "outputs": [],
   "source": [
    "url = \"https://raw.githubusercontent.com/MitaliP001/patient-treatment-classification/main/training_set.csv\"\n",
    "data = pd.read_csv(url)"
   ]
  },
  {
   "cell_type": "code",
   "execution_count": 73,
   "id": "cb153360",
   "metadata": {
    "scrolled": true
   },
   "outputs": [
    {
     "name": "stdout",
     "output_type": "stream",
     "text": [
      "   HAEMATOCRIT  HAEMOGLOBINS  ERYTHROCYTE  LEUCOCYTE  THROMBOCYTE   MCH  MCHC  \\\n",
      "0         33.8          11.1         4.18        4.6          150  26.6  32.8   \n",
      "1         44.6          14.0         6.86        6.3          232  20.4  31.4   \n",
      "2         42.9          14.0         4.57        6.2          336  30.6  32.6   \n",
      "3         41.9          14.4         4.67        3.5          276  30.8  34.4   \n",
      "4         40.6          13.3         4.85       14.9          711  27.4  32.8   \n",
      "\n",
      "    MCV  AGE SEX  SOURCE  \n",
      "0  80.9   33   F       1  \n",
      "1  65.0   36   M       0  \n",
      "2  93.9   70   F       0  \n",
      "3  89.7   18   F       0  \n",
      "4  83.7   36   M       0  \n"
     ]
    }
   ],
   "source": [
    "# Print the first few rows (default is 5 rows)\n",
    "print(data.head())"
   ]
  },
  {
   "cell_type": "code",
   "execution_count": 74,
   "id": "8c7862d9",
   "metadata": {},
   "outputs": [],
   "source": [
    "# Select the columns to use as features (independent variables)\n",
    "# Feature selection and engineering\n",
    "X = data[['HAEMATOCRIT', 'HAEMOGLOBINS', 'ERYTHROCYTE', 'LEUCOCYTE', 'THROMBOCYTE', 'MCH', 'MCHC']]\n",
    "# Select the target variable\n",
    "y = data['SOURCE']"
   ]
  },
  {
   "cell_type": "code",
   "execution_count": 75,
   "id": "9fa45109",
   "metadata": {},
   "outputs": [],
   "source": [
    "# Split the data into training and testing sets\n",
    "X_train, X_test, y_train, y_test = train_test_split(X, y, test_size=0.2, random_state=42)\n"
   ]
  },
  {
   "cell_type": "code",
   "execution_count": 76,
   "id": "9dd1c387",
   "metadata": {},
   "outputs": [],
   "source": [
    "# Standardize the features\n",
    "scaler = StandardScaler()\n",
    "X_train = scaler.fit_transform(X_train)\n",
    "X_test = scaler.transform(X_test)"
   ]
  },
  {
   "cell_type": "code",
   "execution_count": 77,
   "id": "fbe8ad6e",
   "metadata": {},
   "outputs": [],
   "source": [
    "# Define a range of K values to test\n",
    "k_values = range(1, 10)  # Test K values from 1 to 20"
   ]
  },
  {
   "cell_type": "code",
   "execution_count": 78,
   "id": "b2ea718e",
   "metadata": {},
   "outputs": [],
   "source": [
    "best_k = None\n",
    "best_score = float('inf')  # Initialize with a high value for MSE"
   ]
  },
  {
   "cell_type": "code",
   "execution_count": 79,
   "id": "d471db6d",
   "metadata": {},
   "outputs": [],
   "source": [
    "# Iterate through K values and find the best K\n",
    "for k in k_values:\n",
    "    knn = KNeighborsRegressor(n_neighbors=k)\n",
    "    knn.fit(X_train, y_train)\n",
    "    y_pred = knn.predict(X_test)\n",
    "    mse = mean_squared_error(y_test, y_pred)\n",
    "\n",
    "    if mse < best_score:\n",
    "        best_score = mse\n",
    "        best_k = k\n"
   ]
  },
  {
   "cell_type": "code",
   "execution_count": 80,
   "id": "b58bd87d",
   "metadata": {},
   "outputs": [
    {
     "name": "stdout",
     "output_type": "stream",
     "text": [
      "Best K: 9\n",
      "Lowest MSE: 0.20288314497780766\n"
     ]
    }
   ],
   "source": [
    "print(f\"Best K: {best_k}\")\n",
    "print(f\"Lowest MSE: {best_score}\")"
   ]
  },
  {
   "cell_type": "code",
   "execution_count": 81,
   "id": "5308f169",
   "metadata": {},
   "outputs": [],
   "source": [
    "# Assuming you have already trained your KNN model with best K\n",
    "best_k = 9\n"
   ]
  },
  {
   "cell_type": "code",
   "execution_count": 88,
   "id": "a086a1b9",
   "metadata": {},
   "outputs": [],
   "source": [
    "new_data = pd.DataFrame({\n",
    "    'HAEMATOCRIT': [33.8],     # Actual value from your dataset\n",
    "    'HAEMOGLOBINS': [11.1],    # Actual value from your dataset\n",
    "    'ERYTHROCYTE': [4.18],     # Actual value from your dataset\n",
    "    'LEUCOCYTE': [4.6],       # Actual value from your dataset\n",
    "    'THROMBOCYTE': [150],     # Actual value from your dataset\n",
    "    'MCH': [26.6],            # Actual value from your dataset\n",
    "    'MCHC': [32.8]            # Actual value from your dataset\n",
    "})"
   ]
  },
  {
   "cell_type": "code",
   "execution_count": 89,
   "id": "2d034637",
   "metadata": {},
   "outputs": [],
   "source": [
    "# Standardize the new data using statistics from your training data\n",
    "new_data_mean = X_train.mean()\n",
    "new_data_std = X_train.std()\n",
    "new_data_scaled = (new_data - new_data_mean) / new_data_std"
   ]
  },
  {
   "cell_type": "code",
   "execution_count": 90,
   "id": "425a57b6",
   "metadata": {},
   "outputs": [],
   "source": [
    "# Create a KNN regressor with the best K\n",
    "knn = KNeighborsRegressor(n_neighbors=best_k)"
   ]
  },
  {
   "cell_type": "code",
   "execution_count": 91,
   "id": "dc43c28b",
   "metadata": {},
   "outputs": [
    {
     "data": {
      "text/html": [
       "<style>#sk-container-id-8 {color: black;}#sk-container-id-8 pre{padding: 0;}#sk-container-id-8 div.sk-toggleable {background-color: white;}#sk-container-id-8 label.sk-toggleable__label {cursor: pointer;display: block;width: 100%;margin-bottom: 0;padding: 0.3em;box-sizing: border-box;text-align: center;}#sk-container-id-8 label.sk-toggleable__label-arrow:before {content: \"▸\";float: left;margin-right: 0.25em;color: #696969;}#sk-container-id-8 label.sk-toggleable__label-arrow:hover:before {color: black;}#sk-container-id-8 div.sk-estimator:hover label.sk-toggleable__label-arrow:before {color: black;}#sk-container-id-8 div.sk-toggleable__content {max-height: 0;max-width: 0;overflow: hidden;text-align: left;background-color: #f0f8ff;}#sk-container-id-8 div.sk-toggleable__content pre {margin: 0.2em;color: black;border-radius: 0.25em;background-color: #f0f8ff;}#sk-container-id-8 input.sk-toggleable__control:checked~div.sk-toggleable__content {max-height: 200px;max-width: 100%;overflow: auto;}#sk-container-id-8 input.sk-toggleable__control:checked~label.sk-toggleable__label-arrow:before {content: \"▾\";}#sk-container-id-8 div.sk-estimator input.sk-toggleable__control:checked~label.sk-toggleable__label {background-color: #d4ebff;}#sk-container-id-8 div.sk-label input.sk-toggleable__control:checked~label.sk-toggleable__label {background-color: #d4ebff;}#sk-container-id-8 input.sk-hidden--visually {border: 0;clip: rect(1px 1px 1px 1px);clip: rect(1px, 1px, 1px, 1px);height: 1px;margin: -1px;overflow: hidden;padding: 0;position: absolute;width: 1px;}#sk-container-id-8 div.sk-estimator {font-family: monospace;background-color: #f0f8ff;border: 1px dotted black;border-radius: 0.25em;box-sizing: border-box;margin-bottom: 0.5em;}#sk-container-id-8 div.sk-estimator:hover {background-color: #d4ebff;}#sk-container-id-8 div.sk-parallel-item::after {content: \"\";width: 100%;border-bottom: 1px solid gray;flex-grow: 1;}#sk-container-id-8 div.sk-label:hover label.sk-toggleable__label {background-color: #d4ebff;}#sk-container-id-8 div.sk-serial::before {content: \"\";position: absolute;border-left: 1px solid gray;box-sizing: border-box;top: 0;bottom: 0;left: 50%;z-index: 0;}#sk-container-id-8 div.sk-serial {display: flex;flex-direction: column;align-items: center;background-color: white;padding-right: 0.2em;padding-left: 0.2em;position: relative;}#sk-container-id-8 div.sk-item {position: relative;z-index: 1;}#sk-container-id-8 div.sk-parallel {display: flex;align-items: stretch;justify-content: center;background-color: white;position: relative;}#sk-container-id-8 div.sk-item::before, #sk-container-id-8 div.sk-parallel-item::before {content: \"\";position: absolute;border-left: 1px solid gray;box-sizing: border-box;top: 0;bottom: 0;left: 50%;z-index: -1;}#sk-container-id-8 div.sk-parallel-item {display: flex;flex-direction: column;z-index: 1;position: relative;background-color: white;}#sk-container-id-8 div.sk-parallel-item:first-child::after {align-self: flex-end;width: 50%;}#sk-container-id-8 div.sk-parallel-item:last-child::after {align-self: flex-start;width: 50%;}#sk-container-id-8 div.sk-parallel-item:only-child::after {width: 0;}#sk-container-id-8 div.sk-dashed-wrapped {border: 1px dashed gray;margin: 0 0.4em 0.5em 0.4em;box-sizing: border-box;padding-bottom: 0.4em;background-color: white;}#sk-container-id-8 div.sk-label label {font-family: monospace;font-weight: bold;display: inline-block;line-height: 1.2em;}#sk-container-id-8 div.sk-label-container {text-align: center;}#sk-container-id-8 div.sk-container {/* jupyter's `normalize.less` sets `[hidden] { display: none; }` but bootstrap.min.css set `[hidden] { display: none !important; }` so we also need the `!important` here to be able to override the default hidden behavior on the sphinx rendered scikit-learn.org. See: https://github.com/scikit-learn/scikit-learn/issues/21755 */display: inline-block !important;position: relative;}#sk-container-id-8 div.sk-text-repr-fallback {display: none;}</style><div id=\"sk-container-id-8\" class=\"sk-top-container\"><div class=\"sk-text-repr-fallback\"><pre>KNeighborsRegressor(n_neighbors=9)</pre><b>In a Jupyter environment, please rerun this cell to show the HTML representation or trust the notebook. <br />On GitHub, the HTML representation is unable to render, please try loading this page with nbviewer.org.</b></div><div class=\"sk-container\" hidden><div class=\"sk-item\"><div class=\"sk-estimator sk-toggleable\"><input class=\"sk-toggleable__control sk-hidden--visually\" id=\"sk-estimator-id-8\" type=\"checkbox\" checked><label for=\"sk-estimator-id-8\" class=\"sk-toggleable__label sk-toggleable__label-arrow\">KNeighborsRegressor</label><div class=\"sk-toggleable__content\"><pre>KNeighborsRegressor(n_neighbors=9)</pre></div></div></div></div></div>"
      ],
      "text/plain": [
       "KNeighborsRegressor(n_neighbors=9)"
      ]
     },
     "execution_count": 91,
     "metadata": {},
     "output_type": "execute_result"
    }
   ],
   "source": [
    "# Fit the model with the training data (X_train, y_train)\n",
    "knn.fit(X_train, y_train)"
   ]
  },
  {
   "cell_type": "code",
   "execution_count": 92,
   "id": "4270f5f8",
   "metadata": {},
   "outputs": [
    {
     "name": "stderr",
     "output_type": "stream",
     "text": [
      "C:\\Users\\Tirthapurohit\\anaconda3\\Lib\\site-packages\\sklearn\\base.py:457: UserWarning: X has feature names, but KNeighborsRegressor was fitted without feature names\n",
      "  warnings.warn(\n"
     ]
    }
   ],
   "source": [
    "# Make predictions for the new data\n",
    "predictions = knn.predict(new_data_scaled)"
   ]
  },
  {
   "cell_type": "code",
   "execution_count": 93,
   "id": "712a35af",
   "metadata": {},
   "outputs": [
    {
     "name": "stdout",
     "output_type": "stream",
     "text": [
      "[0.77777778]\n"
     ]
    }
   ],
   "source": [
    "# The 'predictions' variable now contains the predicted 'SOURCE' values\n",
    "print(predictions)"
   ]
  },
  {
   "cell_type": "code",
   "execution_count": 94,
   "id": "14c9e41c",
   "metadata": {},
   "outputs": [],
   "source": [
    "#In this KNN regression analysis, the model assesses the patient's probability of being under medical care or not, taking into account their medical indicators. The prediction suggests that there's roughly a 77.78% chance that the patient is receiving medical care, making it a valuable tool for healthcare risk evaluation."
   ]
  }
 ],
 "metadata": {
  "kernelspec": {
   "display_name": "Python 3 (ipykernel)",
   "language": "python",
   "name": "python3"
  },
  "language_info": {
   "codemirror_mode": {
    "name": "ipython",
    "version": 3
   },
   "file_extension": ".py",
   "mimetype": "text/x-python",
   "name": "python",
   "nbconvert_exporter": "python",
   "pygments_lexer": "ipython3",
   "version": "3.11.5"
  }
 },
 "nbformat": 4,
 "nbformat_minor": 5
}
